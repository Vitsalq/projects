{
 "cells": [
  {
   "cell_type": "markdown",
   "metadata": {},
   "source": [
    "# EUSIPCO 2021 Papers Wordcloud\n",
    "\n",
    "reference for wordclouds: \n",
    "- https://towardsdatascience.com/simple-wordcloud-in-python-2ae54a9f58e5\n",
    "- https://pypi.org/project/wordcloud/"
   ]
  },
  {
   "cell_type": "markdown",
   "metadata": {},
   "source": [
    "## Install needed packages"
   ]
  },
  {
   "cell_type": "code",
   "execution_count": null,
   "metadata": {},
   "outputs": [],
   "source": [
    "# !pip install pandas\n",
    "# !pip install wordcloud\n",
    "# !pip install numpy\n",
    "# !pip install matplotlib"
   ]
  },
  {
   "cell_type": "markdown",
   "metadata": {},
   "source": [
    "### Read file with paper names\n",
    "\n",
    "To load the papers information we will use the file conference_content.txt. To create this file, I went to the page https://eusipco2021.org/conference-programme/ and manually copied all the programme to a txt.\n",
    "\n",
    "In conference_content.txt we can distinguish the paper names from other information using the fact that the paper names always appear alone in a line of the file with all of its characters in upper case letter. \n",
    "\n",
    "The filter of paper names is handled by the get_paper_names function below"
   ]
  },
  {
   "cell_type": "code",
   "execution_count": null,
   "metadata": {},
   "outputs": [],
   "source": [
    "import pandas as pd\n",
    "import numpy as np"
   ]
  },
  {
   "cell_type": "code",
   "execution_count": null,
   "metadata": {},
   "outputs": [],
   "source": [
    "def get_paper_names(file):\n",
    "    with open(file, 'r') as f:\n",
    "        content = f.readlines()\n",
    "    \n",
    "    names = []\n",
    "    \n",
    "    for line in content:\n",
    "        temp = line.strip()\n",
    "        if temp == 'Q&A':\n",
    "            continue \n",
    "        if temp == '3MT':\n",
    "            continue    \n",
    "        temp = ''.join([c for c in temp if c == ' ' or c.isalpha()])\n",
    "        if temp.isupper():\n",
    "            if line.startswith('#'):\n",
    "                line = ' '.join(line.split(' ')[1:])\n",
    "            names.append(line.strip())\n",
    "            \n",
    "    return names"
   ]
  },
  {
   "cell_type": "code",
   "execution_count": null,
   "metadata": {},
   "outputs": [],
   "source": [
    "papers = get_paper_names('./conference_content.txt')"
   ]
  },
  {
   "cell_type": "code",
   "execution_count": null,
   "metadata": {},
   "outputs": [],
   "source": [
    "len(papers)"
   ]
  },
  {
   "cell_type": "code",
   "execution_count": null,
   "metadata": {},
   "outputs": [],
   "source": [
    "print(*np.random.choice(papers, 10), sep='\\n\\n')"
   ]
  },
  {
   "cell_type": "markdown",
   "metadata": {},
   "source": [
    "## Generate wordcloud"
   ]
  },
  {
   "cell_type": "code",
   "execution_count": null,
   "metadata": {},
   "outputs": [],
   "source": [
    "import matplotlib.pyplot as plt\n",
    "\n",
    "def plot_cloud(wordcloud, save=True):\n",
    "    f = plt.figure(figsize=(40, 30))\n",
    "    plt.imshow(wordcloud) \n",
    "    plt.axis(\"off\");\n",
    "    if save:\n",
    "        f.savefig('./wordcloud.jpg')  "
   ]
  },
  {
   "cell_type": "code",
   "execution_count": null,
   "metadata": {
    "scrolled": false
   },
   "outputs": [],
   "source": [
    "from wordcloud import WordCloud, STOPWORDS\n",
    "\n",
    "# based and used appear a lot\n",
    "# so we add it to stopwords \n",
    "STOPWORDS.add('based')\n",
    "STOPWORDS.add('using')\n",
    "\n",
    "text = '\\n'.join(papers)\n",
    "text = text.lower()\n",
    "\n",
    "wordcloud = WordCloud(width= 3000, height = 2000, random_state=1, \n",
    "                      background_color='salmon', colormap='Pastel1', \n",
    "                      collocations=False, stopwords = STOPWORDS).generate(text)\n",
    "# Plot\n",
    "plot_cloud(wordcloud)"
   ]
  }
 ],
 "metadata": {
  "kernelspec": {
   "display_name": "Python 3.7.7 64-bit ('ds': conda)",
   "language": "python",
   "name": "python37764bitdsconda94d2c2b4f0824f78ba154f9ce5d6df9d"
  },
  "language_info": {
   "codemirror_mode": {
    "name": "ipython",
    "version": 3
   },
   "file_extension": ".py",
   "mimetype": "text/x-python",
   "name": "python",
   "nbconvert_exporter": "python",
   "pygments_lexer": "ipython3",
   "version": "3.7.7"
  }
 },
 "nbformat": 4,
 "nbformat_minor": 4
}
